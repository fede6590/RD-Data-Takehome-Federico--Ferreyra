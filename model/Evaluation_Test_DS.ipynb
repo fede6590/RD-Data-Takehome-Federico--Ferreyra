{
 "cells": [
  {
   "cell_type": "markdown",
   "id": "d11b9c24",
   "metadata": {},
   "source": [
    "# Real VS Fake Faces Classification\n",
    "\n",
    "## Model evaluation"
   ]
  },
  {
   "cell_type": "code",
   "execution_count": 21,
   "id": "1205a6a3",
   "metadata": {},
   "outputs": [],
   "source": [
    "import os\n",
    "\n",
    "from sklearn.metrics import accuracy_score, classification_report\n",
    "\n",
    "import utils\n",
    "import model"
   ]
  },
  {
   "cell_type": "markdown",
   "id": "491a75b4",
   "metadata": {},
   "source": [
    "## Experiment settings\n",
    "\n",
    "Set here the two variables in the following way:\n",
    "\n",
    "- **CONFIG_YML:** path to the config.yml file used for trainning.\n",
    "- **WEIGHTS:** path to the model weights (.h5 file) to evaluate\n"
   ]
  },
  {
   "cell_type": "code",
   "execution_count": 22,
   "id": "7939dadf",
   "metadata": {},
   "outputs": [],
   "source": [
    "CONFIG_YML = \"config.yml\"\n",
    "WEIGHTS = \"weights/model.better.h5\""
   ]
  },
  {
   "cell_type": "code",
   "execution_count": 25,
   "id": "afc06ab4",
   "metadata": {
    "scrolled": true
   },
   "outputs": [
    {
     "data": {
      "text/plain": [
       "{'seed': 21,\n",
       " 'data': {'directory': 'data/subset',\n",
       "  'test_dataset': '../data/rd_test_dataset',\n",
       "  'labels': 'inferred',\n",
       "  'label_mode': 'categorical',\n",
       "  'validation_split': 0.2,\n",
       "  'image_size': [256, 256],\n",
       "  'batch_size': 20},\n",
       " 'model': {'weights': 'imagenet',\n",
       "  'input_shape': [256, 256, 3],\n",
       "  'classes': 2,\n",
       "  'data_aug_layer': None,\n",
       "  'regularizer': 'l2',\n",
       "  'trainable': True},\n",
       " 'compile': {'optimizer': {'adam': {'learning_rate': 0.005,\n",
       "    'epsilon': 0.05,\n",
       "    'amsgrad': True}},\n",
       "  'loss': 'binary_crossentropy',\n",
       "  'metrics': ['categorical_accuracy']},\n",
       " 'fit': {'epochs': 30,\n",
       "  'callbacks': {'model_checkpoint': {'filepath': 'model/weights/model.better.h5',\n",
       "    'save_best_only': True},\n",
       "   'early_stopping': {'monitor': 'val_loss',\n",
       "    'patience': 2,\n",
       "    'restore_best_weights': True},\n",
       "   'tensor_board': {'log_dir': 'model/weights/logs'}}}}"
      ]
     },
     "execution_count": 25,
     "metadata": {},
     "output_type": "execute_result"
    }
   ],
   "source": [
    "config = utils.load_config(CONFIG_YML)\n",
    "config"
   ]
  },
  {
   "cell_type": "code",
   "execution_count": 30,
   "id": "435199e0",
   "metadata": {},
   "outputs": [
    {
     "ename": "FileNotFoundError",
     "evalue": "[WinError 3] El sistema no puede encontrar la ruta especificada: 'data/subset'",
     "output_type": "error",
     "traceback": [
      "\u001b[1;31m---------------------------------------------------------------------------\u001b[0m",
      "\u001b[1;31mFileNotFoundError\u001b[0m                         Traceback (most recent call last)",
      "\u001b[1;32mc:\\Users\\Fede\\OneDrive\\Documentos\\Porfolio\\Challenges\\Reality_Defender\\RD-Data-Takehome-Federico--Ferreyra\\model\\Evaluation_Test_DS.ipynb Celda 6\u001b[0m in \u001b[0;36m<cell line: 1>\u001b[1;34m()\u001b[0m\n\u001b[1;32m----> <a href='vscode-notebook-cell:/c%3A/Users/Fede/OneDrive/Documentos/Porfolio/Challenges/Reality_Defender/RD-Data-Takehome-Federico--Ferreyra/model/Evaluation_Test_DS.ipynb#W5sZmlsZQ%3D%3D?line=0'>1</a>\u001b[0m CLASSES \u001b[39m=\u001b[39m utils\u001b[39m.\u001b[39;49mget_class_names(config)\n\u001b[0;32m      <a href='vscode-notebook-cell:/c%3A/Users/Fede/OneDrive/Documentos/Porfolio/Challenges/Reality_Defender/RD-Data-Takehome-Federico--Ferreyra/model/Evaluation_Test_DS.ipynb#W5sZmlsZQ%3D%3D?line=1'>2</a>\u001b[0m TEST_FOLDER \u001b[39m=\u001b[39m config[\u001b[39m'\u001b[39m\u001b[39mdata\u001b[39m\u001b[39m'\u001b[39m][\u001b[39m'\u001b[39m\u001b[39mtest_dataset\u001b[39m\u001b[39m'\u001b[39m]\n",
      "File \u001b[1;32mc:\\Users\\Fede\\OneDrive\\Documentos\\Porfolio\\Challenges\\Reality_Defender\\RD-Data-Takehome-Federico--Ferreyra\\model\\utils.py:80\u001b[0m, in \u001b[0;36mget_class_names\u001b[1;34m(config)\u001b[0m\n\u001b[0;32m     57\u001b[0m \u001b[39mdef\u001b[39;00m \u001b[39mget_class_names\u001b[39m(config):\n\u001b[0;32m     58\u001b[0m     \u001b[39m\"\"\"\u001b[39;00m\n\u001b[0;32m     59\u001b[0m \u001b[39m    It's not always easy to track how Keras maps our dataset classes to\u001b[39;00m\n\u001b[0;32m     60\u001b[0m \u001b[39m    the model outputs.\u001b[39;00m\n\u001b[1;32m   (...)\u001b[0m\n\u001b[0;32m     78\u001b[0m \u001b[39m                'Acura Integra Type R 2001', ...]\u001b[39;00m\n\u001b[0;32m     79\u001b[0m \u001b[39m    \"\"\"\u001b[39;00m\n\u001b[1;32m---> 80\u001b[0m     \u001b[39mreturn\u001b[39;00m \u001b[39msorted\u001b[39m(os\u001b[39m.\u001b[39;49mlistdir(os\u001b[39m.\u001b[39;49mpath\u001b[39m.\u001b[39;49mjoin(config[\u001b[39m\"\u001b[39;49m\u001b[39mdata\u001b[39;49m\u001b[39m\"\u001b[39;49m][\u001b[39m\"\u001b[39;49m\u001b[39mdirectory\u001b[39;49m\u001b[39m\"\u001b[39;49m])))\n",
      "\u001b[1;31mFileNotFoundError\u001b[0m: [WinError 3] El sistema no puede encontrar la ruta especificada: 'data/subset'"
     ]
    }
   ],
   "source": [
    "CLASSES = utils.get_class_names(config)\n",
    "TEST_FOLDER = config['data']['test_dataset']"
   ]
  },
  {
   "cell_type": "code",
   "execution_count": null,
   "id": "12f91894",
   "metadata": {
    "scrolled": true
   },
   "outputs": [
    {
     "name": "stdout",
     "output_type": "stream",
     "text": [
      "Model: \"model\"\n",
      "_________________________________________________________________\n",
      " Layer (type)                Output Shape              Param #   \n",
      "=================================================================\n",
      " input_1 (InputLayer)        [(None, 256, 256, 3)]     0         \n",
      "                                                                 \n",
      " tf.math.truediv (TFOpLambda  (None, 256, 256, 3)      0         \n",
      " )                                                               \n",
      "                                                                 \n",
      " tf.math.subtract (TFOpLambd  (None, 256, 256, 3)      0         \n",
      " a)                                                              \n",
      "                                                                 \n",
      " mobilenetv2_1.00_224 (Funct  (None, 1280)             2257984   \n",
      " ional)                                                          \n",
      "                                                                 \n",
      " dropout (Dropout)           (None, 1280)              0         \n",
      "                                                                 \n",
      " dense (Dense)               (None, 2)                 2562      \n",
      "                                                                 \n",
      "=================================================================\n",
      "Total params: 2,260,546\n",
      "Trainable params: 2,226,434\n",
      "Non-trainable params: 34,112\n",
      "_________________________________________________________________\n",
      "None\n"
     ]
    }
   ],
   "source": [
    "cnn_model = model.create_model(weights=WEIGHTS)\n",
    "\n",
    "print(cnn_model.summary())"
   ]
  },
  {
   "cell_type": "markdown",
   "id": "b6a33cbb",
   "metadata": {},
   "source": [
    "## Get predictions from testing dataset"
   ]
  },
  {
   "cell_type": "code",
   "execution_count": 28,
   "id": "cce894dd",
   "metadata": {},
   "outputs": [
    {
     "ename": "NameError",
     "evalue": "name 'CLASSES' is not defined",
     "output_type": "error",
     "traceback": [
      "\u001b[1;31m---------------------------------------------------------------------------\u001b[0m",
      "\u001b[1;31mNameError\u001b[0m                                 Traceback (most recent call last)",
      "\u001b[1;32mc:\\Users\\Fede\\OneDrive\\Documentos\\Porfolio\\Challenges\\Reality_Defender\\RD-Data-Takehome-Federico--Ferreyra\\model\\Evaluation_Test_DS.ipynb Celda 9\u001b[0m in \u001b[0;36m<cell line: 1>\u001b[1;34m()\u001b[0m\n\u001b[0;32m      <a href='vscode-notebook-cell:/c%3A/Users/Fede/OneDrive/Documentos/Porfolio/Challenges/Reality_Defender/RD-Data-Takehome-Federico--Ferreyra/model/Evaluation_Test_DS.ipynb#X12sZmlsZQ%3D%3D?line=0'>1</a>\u001b[0m predictions, labels \u001b[39m=\u001b[39m utils\u001b[39m.\u001b[39mpredict_from_folder(\n\u001b[0;32m      <a href='vscode-notebook-cell:/c%3A/Users/Fede/OneDrive/Documentos/Porfolio/Challenges/Reality_Defender/RD-Data-Takehome-Federico--Ferreyra/model/Evaluation_Test_DS.ipynb#X12sZmlsZQ%3D%3D?line=1'>2</a>\u001b[0m     folder\u001b[39m=\u001b[39mTEST_FOLDER, \n\u001b[0;32m      <a href='vscode-notebook-cell:/c%3A/Users/Fede/OneDrive/Documentos/Porfolio/Challenges/Reality_Defender/RD-Data-Takehome-Federico--Ferreyra/model/Evaluation_Test_DS.ipynb#X12sZmlsZQ%3D%3D?line=2'>3</a>\u001b[0m     model\u001b[39m=\u001b[39mcnn_model, \n\u001b[0;32m      <a href='vscode-notebook-cell:/c%3A/Users/Fede/OneDrive/Documentos/Porfolio/Challenges/Reality_Defender/RD-Data-Takehome-Federico--Ferreyra/model/Evaluation_Test_DS.ipynb#X12sZmlsZQ%3D%3D?line=3'>4</a>\u001b[0m     input_size\u001b[39m=\u001b[39mconfig[\u001b[39m\"\u001b[39m\u001b[39mdata\u001b[39m\u001b[39m\"\u001b[39m][\u001b[39m\"\u001b[39m\u001b[39mimage_size\u001b[39m\u001b[39m\"\u001b[39m], \n\u001b[1;32m----> <a href='vscode-notebook-cell:/c%3A/Users/Fede/OneDrive/Documentos/Porfolio/Challenges/Reality_Defender/RD-Data-Takehome-Federico--Ferreyra/model/Evaluation_Test_DS.ipynb#X12sZmlsZQ%3D%3D?line=4'>5</a>\u001b[0m     class_names\u001b[39m=\u001b[39mCLASSES,\n\u001b[0;32m      <a href='vscode-notebook-cell:/c%3A/Users/Fede/OneDrive/Documentos/Porfolio/Challenges/Reality_Defender/RD-Data-Takehome-Federico--Ferreyra/model/Evaluation_Test_DS.ipynb#X12sZmlsZQ%3D%3D?line=5'>6</a>\u001b[0m )\n\u001b[0;32m      <a href='vscode-notebook-cell:/c%3A/Users/Fede/OneDrive/Documentos/Porfolio/Challenges/Reality_Defender/RD-Data-Takehome-Federico--Ferreyra/model/Evaluation_Test_DS.ipynb#X12sZmlsZQ%3D%3D?line=7'>8</a>\u001b[0m \u001b[39mif\u001b[39;00m \u001b[39mlen\u001b[39m(predictions) \u001b[39m!=\u001b[39m \u001b[39mlen\u001b[39m(labels):\n\u001b[0;32m      <a href='vscode-notebook-cell:/c%3A/Users/Fede/OneDrive/Documentos/Porfolio/Challenges/Reality_Defender/RD-Data-Takehome-Federico--Ferreyra/model/Evaluation_Test_DS.ipynb#X12sZmlsZQ%3D%3D?line=8'>9</a>\u001b[0m     \u001b[39mraise\u001b[39;00m \u001b[39mValueError\u001b[39;00m(\n\u001b[0;32m     <a href='vscode-notebook-cell:/c%3A/Users/Fede/OneDrive/Documentos/Porfolio/Challenges/Reality_Defender/RD-Data-Takehome-Federico--Ferreyra/model/Evaluation_Test_DS.ipynb#X12sZmlsZQ%3D%3D?line=9'>10</a>\u001b[0m         \u001b[39m\"\u001b[39m\u001b[39mThe lenght of predictions and labels lists doesn\u001b[39m\u001b[39m'\u001b[39m\u001b[39mt match!\u001b[39m\u001b[39m\"\u001b[39m\n\u001b[0;32m     <a href='vscode-notebook-cell:/c%3A/Users/Fede/OneDrive/Documentos/Porfolio/Challenges/Reality_Defender/RD-Data-Takehome-Federico--Ferreyra/model/Evaluation_Test_DS.ipynb#X12sZmlsZQ%3D%3D?line=10'>11</a>\u001b[0m     )\n",
      "\u001b[1;31mNameError\u001b[0m: name 'CLASSES' is not defined"
     ]
    }
   ],
   "source": [
    "predictions, labels = utils.predict_from_folder(\n",
    "    folder=TEST_FOLDER, \n",
    "    model=cnn_model, \n",
    "    input_size=config[\"data\"][\"image_size\"], \n",
    "    class_names=CLASSES,\n",
    ")\n",
    "\n",
    "if len(predictions) != len(labels):\n",
    "    raise ValueError(\n",
    "        \"The lenght of predictions and labels lists doesn't match!\"\n",
    "    )\n",
    "\n",
    "if not isinstance(predictions[0], str):\n",
    "    raise ValueError(\n",
    "        \"Model predictions should be represented as string. E.g: 'Acura RL Sedan 2012'\"\n",
    "    )\n",
    "\n",
    "if not isinstance(labels[0], str):\n",
    "    raise ValueError(\n",
    "        \"Ground true labels should be represented as string. E.g: 'Acura RL Sedan 2012'\"\n",
    "    )\n"
   ]
  },
  {
   "cell_type": "code",
   "execution_count": null,
   "id": "52b06098",
   "metadata": {
    "scrolled": true
   },
   "outputs": [
    {
     "name": "stdout",
     "output_type": "stream",
     "text": [
      "                                                        precision    recall  f1-score   support\n",
      "\n",
      "                            AM General Hummer SUV 2000       0.84      0.95      0.89        44\n",
      "                             Acura Integra Type R 2001       0.79      0.93      0.85        44\n",
      "                                   Acura RL Sedan 2012       0.72      0.81      0.76        32\n",
      "                                   Acura TL Sedan 2012       0.76      0.98      0.86        43\n",
      "                                  Acura TL Type-S 2008       0.91      0.95      0.93        42\n",
      "                                  Acura TSX Sedan 2012       0.93      0.70      0.80        40\n",
      "                              Acura ZDX Hatchback 2012       0.81      0.87      0.84        39\n",
      "              Aston Martin V8 Vantage Convertible 2012       0.65      0.82      0.73        45\n",
      "                    Aston Martin V8 Vantage Coupe 2012       0.85      0.71      0.77        41\n",
      "                  Aston Martin Virage Convertible 2012       1.00      0.61      0.75        33\n",
      "                        Aston Martin Virage Coupe 2012       0.92      0.87      0.89        38\n",
      "                                   Audi 100 Sedan 1994       0.66      0.82      0.73        40\n",
      "                                   Audi 100 Wagon 1994       0.74      0.76      0.75        42\n",
      "                                    Audi A5 Coupe 2012       0.63      0.88      0.73        41\n",
      "                                    Audi R8 Coupe 2012       0.93      0.88      0.90        43\n",
      "                            Audi RS 4 Convertible 2008       0.93      0.75      0.83        36\n",
      "                                    Audi S4 Sedan 2007       0.73      0.96      0.83        45\n",
      "                                    Audi S4 Sedan 2012       0.79      0.49      0.60        39\n",
      "                              Audi S5 Convertible 2012       0.74      0.74      0.74        42\n",
      "                                    Audi S5 Coupe 2012       0.64      0.67      0.65        42\n",
      "                                    Audi S6 Sedan 2011       0.97      0.85      0.91        46\n",
      "                                Audi TT Hatchback 2011       0.59      0.33      0.42        40\n",
      "                                 Audi TT RS Coupe 2012       0.64      0.90      0.74        39\n",
      "                                   Audi TTS Coupe 2012       0.45      0.55      0.49        42\n",
      "                                    Audi V8 Sedan 1994       0.78      0.65      0.71        43\n",
      "                         BMW 1 Series Convertible 2012       0.89      0.89      0.89        35\n",
      "                               BMW 1 Series Coupe 2012       0.93      0.90      0.91        41\n",
      "                               BMW 3 Series Sedan 2012       0.86      0.71      0.78        42\n",
      "                               BMW 3 Series Wagon 2012       0.92      0.88      0.90        41\n",
      "                         BMW 6 Series Convertible 2007       0.96      0.55      0.70        44\n",
      "                         BMW ActiveHybrid 5 Sedan 2012       0.89      0.94      0.91        34\n",
      "                                     BMW M3 Coupe 2012       0.69      0.95      0.80        44\n",
      "                                     BMW M5 Sedan 2010       0.84      0.90      0.87        41\n",
      "                               BMW M6 Convertible 2010       0.46      0.93      0.62        41\n",
      "                                       BMW X3 SUV 2012       0.97      0.92      0.95        38\n",
      "                                       BMW X5 SUV 2007       0.97      0.85      0.91        41\n",
      "                                       BMW X6 SUV 2012       0.83      0.90      0.86        42\n",
      "                               BMW Z4 Convertible 2012       0.97      0.70      0.81        40\n",
      "                             Bentley Arnage Sedan 2009       0.92      0.92      0.92        39\n",
      "            Bentley Continental Flying Spur Sedan 2007       0.78      0.91      0.84        44\n",
      "                     Bentley Continental GT Coupe 2007       0.85      0.37      0.52        46\n",
      "                     Bentley Continental GT Coupe 2012       0.61      0.88      0.72        34\n",
      "Bentley Continental Supersports Conv. Convertible 2012       0.94      0.81      0.87        36\n",
      "                           Bentley Mulsanne Sedan 2011       0.97      0.83      0.89        35\n",
      "                  Bugatti Veyron 16.4 Convertible 2009       0.79      0.72      0.75        32\n",
      "                        Bugatti Veyron 16.4 Coupe 2009       0.78      0.81      0.80        43\n",
      "                                Buick Enclave SUV 2012       0.97      0.86      0.91        42\n",
      "                                Buick Rainier SUV 2007       0.95      0.86      0.90        42\n",
      "                                   Buick Regal GS 2012       0.97      0.89      0.93        35\n",
      "                               Buick Verano Sedan 2012       0.95      1.00      0.97        37\n",
      "                             Cadillac CTS-V Sedan 2012       0.93      1.00      0.97        43\n",
      "                   Cadillac Escalade EXT Crew Cab 2007       0.90      0.86      0.88        44\n",
      "                                 Cadillac SRX SUV 2012       0.98      1.00      0.99        41\n",
      "                     Chevrolet Avalanche Crew Cab 2012       0.80      0.91      0.85        45\n",
      "                     Chevrolet Camaro Convertible 2012       0.90      0.82      0.86        44\n",
      "                              Chevrolet Cobalt SS 2010       0.95      0.93      0.94        41\n",
      "                   Chevrolet Corvette Convertible 2012       0.71      0.95      0.81        39\n",
      "       Chevrolet Corvette Ron Fellows Edition Z06 2007       0.88      0.81      0.85        37\n",
      "                           Chevrolet Corvette ZR1 2012       0.81      0.83      0.82        46\n",
      "                      Chevrolet Express Cargo Van 2007       0.42      0.59      0.49        29\n",
      "                            Chevrolet Express Van 2007       0.53      0.26      0.35        35\n",
      "                                 Chevrolet HHR SS 2010       1.00      0.97      0.99        36\n",
      "                           Chevrolet Impala Sedan 2007       0.92      0.79      0.85        43\n",
      "                    Chevrolet Malibu Hybrid Sedan 2010       0.92      0.87      0.89        38\n",
      "                           Chevrolet Malibu Sedan 2007       0.95      0.80      0.86        44\n",
      "                      Chevrolet Monte Carlo Coupe 2007       0.89      0.93      0.91        45\n",
      "    Chevrolet Silverado 1500 Classic Extended Cab 2007       0.95      0.93      0.94        42\n",
      "            Chevrolet Silverado 1500 Extended Cab 2012       0.76      0.67      0.72        43\n",
      "         Chevrolet Silverado 1500 Hybrid Crew Cab 2012       0.61      0.78      0.68        40\n",
      "             Chevrolet Silverado 1500 Regular Cab 2012       0.64      0.66      0.65        44\n",
      "           Chevrolet Silverado 2500HD Regular Cab 2012       0.78      0.76      0.77        38\n",
      "                            Chevrolet Sonic Sedan 2012       0.93      0.95      0.94        44\n",
      "                       Chevrolet Tahoe Hybrid SUV 2012       0.79      0.70      0.74        37\n",
      "                         Chevrolet TrailBlazer SS 2009       0.97      0.95      0.96        40\n",
      "                           Chevrolet Traverse SUV 2012       0.95      0.93      0.94        44\n",
      "                               Chrysler 300 SRT-8 2010       1.00      0.77      0.87        48\n",
      "                               Chrysler Aspen SUV 2009       0.52      1.00      0.69        43\n",
      "                   Chrysler Crossfire Convertible 2008       0.95      0.93      0.94        43\n",
      "                  Chrysler PT Cruiser Convertible 2008       0.98      0.93      0.95        45\n",
      "                     Chrysler Sebring Convertible 2010       0.97      0.97      0.97        40\n",
      "                Chrysler Town and Country Minivan 2012       1.00      0.70      0.83        37\n",
      "                              Daewoo Nubira Wagon 2002       0.93      0.89      0.91        45\n",
      "                              Dodge Caliber Wagon 2007       0.70      0.74      0.72        42\n",
      "                              Dodge Caliber Wagon 2012       0.71      0.68      0.69        40\n",
      "                            Dodge Caravan Minivan 1997       0.98      0.98      0.98        43\n",
      "                            Dodge Challenger SRT8 2011       1.00      0.87      0.93        39\n",
      "                              Dodge Charger SRT-8 2009       0.64      0.98      0.77        42\n",
      "                              Dodge Charger Sedan 2012       0.94      0.71      0.81        41\n",
      "                            Dodge Dakota Club Cab 2007       0.90      0.92      0.91        38\n",
      "                            Dodge Dakota Crew Cab 2010       0.90      0.90      0.90        41\n",
      "                                Dodge Durango SUV 2007       0.97      0.84      0.90        45\n",
      "                                Dodge Durango SUV 2012       1.00      0.91      0.95        43\n",
      "                                Dodge Journey SUV 2012       0.98      0.93      0.95        44\n",
      "                               Dodge Magnum Wagon 2008       0.86      0.75      0.80        40\n",
      "                   Dodge Ram Pickup 3500 Crew Cab 2010       1.00      0.88      0.94        42\n",
      "                   Dodge Ram Pickup 3500 Quad Cab 2009       0.95      0.84      0.89        44\n",
      "                         Dodge Sprinter Cargo Van 2009       0.74      0.90      0.81        39\n",
      "                            Eagle Talon Hatchback 1998       0.91      0.87      0.89        46\n",
      "                                  FIAT 500 Abarth 2012       0.96      0.96      0.96        27\n",
      "                             FIAT 500 Convertible 2012       0.97      0.94      0.95        33\n",
      "                   Ferrari 458 Italia Convertible 2012       0.80      0.72      0.76        39\n",
      "                         Ferrari 458 Italia Coupe 2012       0.72      0.81      0.76        42\n",
      "                   Ferrari California Convertible 2012       0.97      0.92      0.95        39\n",
      "                                 Ferrari FF Coupe 2012       1.00      0.88      0.94        42\n",
      "                               Fisker Karma Sedan 2012       0.97      0.81      0.89        43\n",
      "                          Ford E-Series Wagon Van 2012       0.92      0.97      0.95        37\n",
      "                                    Ford Edge SUV 2012       0.97      0.91      0.94        43\n",
      "                           Ford Expedition EL SUV 2009       0.98      0.93      0.95        44\n",
      "                           Ford F-150 Regular Cab 2007       0.90      1.00      0.95        45\n",
      "                           Ford F-150 Regular Cab 2012       1.00      1.00      1.00        42\n",
      "                   Ford F-450 Super Duty Crew Cab 2012       1.00      0.88      0.94        41\n",
      "                                Ford Fiesta Sedan 2012       0.88      0.88      0.88        42\n",
      "                                 Ford Focus Sedan 2007       0.98      0.89      0.93        45\n",
      "                            Ford Freestar Minivan 2007       0.91      0.98      0.95        44\n",
      "                                    Ford GT Coupe 2006       0.83      0.87      0.85        45\n",
      "                         Ford Mustang Convertible 2007       0.88      0.84      0.86        44\n",
      "                             Ford Ranger SuperCab 2011       0.97      0.93      0.95        42\n",
      "                                   GMC Acadia SUV 2012       0.95      0.95      0.95        44\n",
      "                          GMC Canyon Extended Cab 2012       1.00      0.88      0.93        40\n",
      "                                   GMC Savana Van 2012       0.65      0.85      0.74        68\n",
      "                                  GMC Terrain SUV 2012       0.91      0.95      0.93        41\n",
      "                             GMC Yukon Hybrid SUV 2012       0.94      0.76      0.84        42\n",
      "                            Geo Metro Convertible 1993       0.97      0.89      0.93        44\n",
      "                           HUMMER H2 SUT Crew Cab 2009       0.92      0.79      0.85        43\n",
      "                              HUMMER H3T Crew Cab 2010       0.88      0.95      0.91        39\n",
      "                               Honda Accord Coupe 2012       1.00      0.82      0.90        39\n",
      "                               Honda Accord Sedan 2012       0.79      0.89      0.84        38\n",
      "                            Honda Odyssey Minivan 2007       0.93      0.90      0.91        41\n",
      "                            Honda Odyssey Minivan 2012       0.93      0.95      0.94        42\n",
      "                             Hyundai Accent Sedan 2012       0.95      0.79      0.86        24\n",
      "                              Hyundai Azera Sedan 2012       0.97      0.83      0.90        42\n",
      "                            Hyundai Elantra Sedan 2007       0.93      0.88      0.90        42\n",
      "                Hyundai Elantra Touring Hatchback 2012       0.93      0.98      0.95        42\n",
      "                            Hyundai Genesis Sedan 2012       0.86      0.98      0.91        43\n",
      "                             Hyundai Santa Fe SUV 2012       1.00      0.95      0.98        42\n",
      "                      Hyundai Sonata Hybrid Sedan 2012       0.86      0.91      0.88        33\n",
      "                             Hyundai Sonata Sedan 2012       0.97      0.90      0.93        39\n",
      "                               Hyundai Tucson SUV 2012       0.91      0.95      0.93        43\n",
      "                       Hyundai Veloster Hatchback 2012       0.89      0.95      0.92        41\n",
      "                             Hyundai Veracruz SUV 2012       0.97      0.88      0.93        42\n",
      "                             Infiniti G Coupe IPL 2012       0.88      0.88      0.88        34\n",
      "                                Infiniti QX56 SUV 2011       0.93      0.84      0.89        32\n",
      "                               Isuzu Ascender SUV 2008       0.97      0.90      0.94        40\n",
      "                                    Jaguar XK XKR 2012       0.88      0.83      0.85        46\n",
      "                                 Jeep Compass SUV 2012       0.87      0.93      0.90        42\n",
      "                          Jeep Grand Cherokee SUV 2012       0.95      0.87      0.91        45\n",
      "                                 Jeep Liberty SUV 2012       0.97      0.84      0.90        44\n",
      "                                 Jeep Patriot SUV 2012       0.87      0.93      0.90        44\n",
      "                                Jeep Wrangler SUV 2012       0.96      1.00      0.98        43\n",
      "                      Lamborghini Aventador Coupe 2012       0.75      0.93      0.83        43\n",
      "                         Lamborghini Diablo Coupe 2001       0.70      0.89      0.78        44\n",
      "       Lamborghini Gallardo LP 570-4 Superleggera 2012       0.88      0.80      0.84        35\n",
      "                       Lamborghini Reventon Coupe 2008       0.84      0.89      0.86        36\n",
      "                               Land Rover LR2 SUV 2012       0.76      0.98      0.85        42\n",
      "                       Land Rover Range Rover SUV 2012       0.97      0.90      0.94        42\n",
      "                           Lincoln Town Car Sedan 2011       0.88      0.92      0.90        39\n",
      "                 MINI Cooper Roadster Convertible 2012       0.97      0.92      0.94        36\n",
      "                    Maybach Landaulet Convertible 2012       0.93      0.86      0.89        29\n",
      "                                Mazda Tribute SUV 2011       0.94      0.92      0.93        36\n",
      "                            McLaren MP4-12C Coupe 2012       0.82      0.93      0.87        44\n",
      "              Mercedes-Benz 300-Class Convertible 1993       0.87      1.00      0.93        48\n",
      "                      Mercedes-Benz C-Class Sedan 2012       0.97      0.76      0.85        45\n",
      "                      Mercedes-Benz E-Class Sedan 2012       0.83      0.91      0.87        43\n",
      "                      Mercedes-Benz S-Class Sedan 2012       0.93      0.91      0.92        44\n",
      "                     Mercedes-Benz SL-Class Coupe 2009       1.00      0.86      0.93        36\n",
      "                       Mercedes-Benz Sprinter Van 2012       0.91      0.78      0.84        41\n",
      "                          Mitsubishi Lancer Sedan 2012       0.91      0.83      0.87        47\n",
      "                               Nissan 240SX Coupe 1998       0.83      0.93      0.88        46\n",
      "                            Nissan Juke Hatchback 2012       0.78      0.95      0.86        44\n",
      "                            Nissan Leaf Hatchback 2012       0.97      0.93      0.95        42\n",
      "                          Nissan NV Passenger Van 2012       1.00      0.95      0.97        38\n",
      "                              Plymouth Neon Coupe 1999       1.00      0.86      0.93        44\n",
      "                           Porsche Panamera Sedan 2012       0.97      0.88      0.93        43\n",
      "                        Ram C-V Cargo Van Minivan 2012       0.87      0.83      0.85        41\n",
      "                          Rolls-Royce Ghost Sedan 2012       0.74      0.97      0.84        38\n",
      "   Rolls-Royce Phantom Drophead Coupe Convertible 2012       0.87      0.87      0.87        30\n",
      "                        Rolls-Royce Phantom Sedan 2012       0.94      0.73      0.82        44\n",
      "                               Scion xD Hatchback 2012       0.82      1.00      0.90        41\n",
      "                            Spyker C8 Convertible 2009       0.59      0.91      0.72        45\n",
      "                                  Spyker C8 Coupe 2009       0.83      0.60      0.69        42\n",
      "                               Suzuki Aerio Sedan 2007       0.87      0.87      0.87        38\n",
      "                             Suzuki Kizashi Sedan 2012       0.91      0.85      0.88        46\n",
      "                             Suzuki SX4 Hatchback 2012       0.76      0.93      0.84        42\n",
      "                                 Suzuki SX4 Sedan 2012       0.85      0.57      0.69        40\n",
      "                              Tesla Model S Sedan 2012       0.93      0.97      0.95        38\n",
      "                               Toyota 4Runner SUV 2012       0.93      1.00      0.96        40\n",
      "                               Toyota Camry Sedan 2012       0.85      0.91      0.88        43\n",
      "                             Toyota Corolla Sedan 2012       0.95      0.86      0.90        43\n",
      "                               Toyota Sequoia SUV 2012       0.94      0.87      0.90        38\n",
      "                      Volkswagen Beetle Hatchback 2012       1.00      0.95      0.98        42\n",
      "                        Volkswagen Golf Hatchback 1991       0.87      1.00      0.93        46\n",
      "                        Volkswagen Golf Hatchback 2012       0.95      0.84      0.89        43\n",
      "                                  Volvo 240 Sedan 1993       0.94      0.98      0.96        45\n",
      "                              Volvo C30 Hatchback 2012       0.97      0.85      0.91        41\n",
      "                                   Volvo XC90 SUV 2007       0.95      0.84      0.89        43\n",
      "                         smart fortwo Convertible 2012       1.00      0.85      0.92        40\n",
      "\n",
      "                                              accuracy                           0.86      8041\n",
      "                                             macro avg       0.87      0.86      0.86      8041\n",
      "                                          weighted avg       0.87      0.86      0.86      8041\n",
      "\n"
     ]
    }
   ],
   "source": [
    "print(classification_report(y_true=labels, y_pred=predictions))"
   ]
  },
  {
   "cell_type": "code",
   "execution_count": null,
   "id": "e8342c09",
   "metadata": {},
   "outputs": [
    {
     "name": "stdout",
     "output_type": "stream",
     "text": [
      "Your model accuracy is 0.8591!\n"
     ]
    }
   ],
   "source": [
    "acc = accuracy_score(y_true=labels, y_pred=predictions)\n",
    "\n",
    "print(f\"Model accuracy {acc:.4f}!\")"
   ]
  }
 ],
 "metadata": {
  "kernelspec": {
   "display_name": "Python 3.9.12 ('base')",
   "language": "python",
   "name": "python3"
  },
  "language_info": {
   "codemirror_mode": {
    "name": "ipython",
    "version": 3
   },
   "file_extension": ".py",
   "mimetype": "text/x-python",
   "name": "python",
   "nbconvert_exporter": "python",
   "pygments_lexer": "ipython3",
   "version": "3.9.12"
  },
  "vscode": {
   "interpreter": {
    "hash": "439271dc3f168a0ce2055a4353efd4df0f31329f275977c8192fe016291bd4f5"
   }
  }
 },
 "nbformat": 4,
 "nbformat_minor": 5
}
