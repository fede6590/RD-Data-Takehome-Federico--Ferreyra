{
 "cells": [
  {
   "cell_type": "markdown",
   "id": "d11b9c24",
   "metadata": {},
   "source": [
    "# Real VS Fake Faces Classification\n",
    "\n",
    "## Model evaluation"
   ]
  },
  {
   "cell_type": "code",
   "execution_count": 24,
   "id": "1205a6a3",
   "metadata": {},
   "outputs": [],
   "source": [
    "import os\n",
    "import pandas as pd\n",
    "\n",
    "import utils\n",
    "import model"
   ]
  },
  {
   "cell_type": "markdown",
   "id": "491a75b4",
   "metadata": {},
   "source": [
    "## Experiment settings\n",
    "\n",
    "Set here the two variables in the following way:\n",
    "\n",
    "- **CONFIG_YML:** path to the config.yml file used for trainning.\n",
    "- **WEIGHTS:** path to the model weights (.h5 file) to evaluate\n"
   ]
  },
  {
   "cell_type": "code",
   "execution_count": 25,
   "id": "7939dadf",
   "metadata": {},
   "outputs": [],
   "source": [
    "CONFIG_YML = \"config.yml\"\n",
    "WEIGHTS = \"weights/model.better.h5\""
   ]
  },
  {
   "cell_type": "code",
   "execution_count": 26,
   "id": "afc06ab4",
   "metadata": {
    "scrolled": true
   },
   "outputs": [
    {
     "data": {
      "text/plain": [
       "{'seed': 21,\n",
       " 'data': {'directory': 'data/subset',\n",
       "  'directory_bis': '../data/subset',\n",
       "  'test_dataset': '../data/rd_test_dataset',\n",
       "  'labels': 'inferred',\n",
       "  'label_mode': 'categorical',\n",
       "  'validation_split': 0.2,\n",
       "  'image_size': [256, 256],\n",
       "  'batch_size': 20},\n",
       " 'model': {'weights': 'imagenet',\n",
       "  'input_shape': [256, 256, 3],\n",
       "  'classes': 2,\n",
       "  'data_aug_layer': None,\n",
       "  'regularizer': 'l2',\n",
       "  'trainable': True},\n",
       " 'compile': {'optimizer': {'adam': {'learning_rate': 0.005,\n",
       "    'epsilon': 0.05,\n",
       "    'amsgrad': True}},\n",
       "  'loss': 'binary_crossentropy',\n",
       "  'metrics': ['categorical_accuracy']},\n",
       " 'fit': {'epochs': 30,\n",
       "  'callbacks': {'model_checkpoint': {'filepath': 'model/weights/model.better.h5',\n",
       "    'save_best_only': True},\n",
       "   'early_stopping': {'monitor': 'val_loss',\n",
       "    'patience': 2,\n",
       "    'restore_best_weights': True},\n",
       "   'tensor_board': {'log_dir': 'model/weights/logs'}}}}"
      ]
     },
     "execution_count": 26,
     "metadata": {},
     "output_type": "execute_result"
    }
   ],
   "source": [
    "config = utils.load_config(CONFIG_YML)\n",
    "config"
   ]
  },
  {
   "cell_type": "code",
   "execution_count": 27,
   "id": "435199e0",
   "metadata": {},
   "outputs": [],
   "source": [
    "CLASSES = sorted(os.listdir(os.path.join(config[\"data\"][\"directory_bis\"])))\n",
    "TEST_FOLDER = config['data']['test_dataset']"
   ]
  },
  {
   "cell_type": "code",
   "execution_count": 28,
   "id": "12f91894",
   "metadata": {
    "scrolled": true
   },
   "outputs": [
    {
     "name": "stdout",
     "output_type": "stream",
     "text": [
      "Model: \"model\"\n",
      "_________________________________________________________________\n",
      " Layer (type)                Output Shape              Param #   \n",
      "=================================================================\n",
      " input_1 (InputLayer)        [(None, 256, 256, 3)]     0         \n",
      "                                                                 \n",
      " tf.math.truediv (TFOpLambda  (None, 256, 256, 3)      0         \n",
      " )                                                               \n",
      "                                                                 \n",
      " tf.math.subtract (TFOpLambd  (None, 256, 256, 3)      0         \n",
      " a)                                                              \n",
      "                                                                 \n",
      " mobilenetv2_1.00_224 (Funct  (None, 1280)             2257984   \n",
      " ional)                                                          \n",
      "                                                                 \n",
      " dropout (Dropout)           (None, 1280)              0         \n",
      "                                                                 \n",
      " dense (Dense)               (None, 2)                 2562      \n",
      "                                                                 \n",
      "=================================================================\n",
      "Total params: 2,260,546\n",
      "Trainable params: 2,226,434\n",
      "Non-trainable params: 34,112\n",
      "_________________________________________________________________\n",
      "None\n"
     ]
    }
   ],
   "source": [
    "cnn_model = model.create_model(weights=WEIGHTS)\n",
    "print(cnn_model.summary())"
   ]
  },
  {
   "cell_type": "markdown",
   "id": "b6a33cbb",
   "metadata": {},
   "source": [
    "## Get predictions from testing dataset"
   ]
  },
  {
   "cell_type": "code",
   "execution_count": 29,
   "id": "cce894dd",
   "metadata": {},
   "outputs": [
    {
     "name": "stdout",
     "output_type": "stream",
     "text": [
      "1/1 [==============================] - 2s 2s/step\n",
      "1/1 [==============================] - 0s 86ms/step\n",
      "1/1 [==============================] - 0s 94ms/step\n",
      "1/1 [==============================] - 0s 97ms/step\n",
      "1/1 [==============================] - 0s 88ms/step\n",
      "1/1 [==============================] - 0s 91ms/step\n",
      "1/1 [==============================] - 2s 2s/step\n",
      "1/1 [==============================] - 0s 93ms/step\n",
      "1/1 [==============================] - 0s 80ms/step\n",
      "1/1 [==============================] - 0s 85ms/step\n",
      "1/1 [==============================] - 0s 98ms/step\n",
      "1/1 [==============================] - 0s 100ms/step\n",
      "1/1 [==============================] - 0s 85ms/step\n",
      "1/1 [==============================] - 0s 120ms/step\n",
      "1/1 [==============================] - 0s 80ms/step\n",
      "1/1 [==============================] - 0s 121ms/step\n",
      "1/1 [==============================] - 0s 92ms/step\n",
      "1/1 [==============================] - 0s 106ms/step\n",
      "1/1 [==============================] - 0s 81ms/step\n",
      "1/1 [==============================] - 0s 80ms/step\n",
      "1/1 [==============================] - 0s 92ms/step\n",
      "1/1 [==============================] - 0s 82ms/step\n"
     ]
    }
   ],
   "source": [
    "filename, predictions = utils.predict_from_folder(\n",
    "    folder=TEST_FOLDER, \n",
    "    model=cnn_model, \n",
    "    input_size=config[\"data\"][\"image_size\"], \n",
    "    class_names=CLASSES,\n",
    ")"
   ]
  },
  {
   "cell_type": "markdown",
   "id": "005c299c",
   "metadata": {},
   "source": [
    "Suposing that all the images in the test dataset are fakes (it looks like it), we then obtain:"
   ]
  },
  {
   "cell_type": "code",
   "execution_count": 30,
   "id": "e8342c09",
   "metadata": {},
   "outputs": [],
   "source": [
    "test_df = pd.DataFrame({'filename': filename, 'predictions': predictions})\n",
    "test_df.to_csv('test_df.csv')\n",
    "\n",
    "COUNTS = test_df['predictions'].value_counts()\n",
    "ACCURACY = COUNTS['fake'] / len(test_df)"
   ]
  },
  {
   "cell_type": "code",
   "execution_count": 34,
   "id": "86d36eb7",
   "metadata": {},
   "outputs": [
    {
     "name": "stdout",
     "output_type": "stream",
     "text": [
      "Accuracy of the model on this test dataset is 91.0 %.\n",
      "Only 2 of 22 fake faces where confused with real faces.\n"
     ]
    }
   ],
   "source": [
    "print(\"Accuracy of the model on this test dataset is\", round(ACCURACY, 2)*100, \"%.\")\n",
    "print(f\"Only {COUNTS['real']} of {len(test_df)} fake faces where confused with real faces.\")"
   ]
  }
 ],
 "metadata": {
  "kernelspec": {
   "display_name": "Python 3.9.12 ('base')",
   "language": "python",
   "name": "python3"
  },
  "language_info": {
   "codemirror_mode": {
    "name": "ipython",
    "version": 3
   },
   "file_extension": ".py",
   "mimetype": "text/x-python",
   "name": "python",
   "nbconvert_exporter": "python",
   "pygments_lexer": "ipython3",
   "version": "3.9.12"
  },
  "vscode": {
   "interpreter": {
    "hash": "439271dc3f168a0ce2055a4353efd4df0f31329f275977c8192fe016291bd4f5"
   }
  }
 },
 "nbformat": 4,
 "nbformat_minor": 5
}
