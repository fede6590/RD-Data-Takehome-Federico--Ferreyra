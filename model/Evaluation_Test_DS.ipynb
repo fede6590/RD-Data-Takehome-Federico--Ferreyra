{
 "cells": [
  {
   "cell_type": "markdown",
   "id": "d11b9c24",
   "metadata": {},
   "source": [
    "# Real VS Fake Faces Classification\n",
    "\n",
    "## Model evaluation"
   ]
  },
  {
   "cell_type": "code",
   "execution_count": 35,
   "id": "1205a6a3",
   "metadata": {},
   "outputs": [],
   "source": [
    "import os\n",
    "import pandas as pd\n",
    "\n",
    "import utils\n",
    "import model"
   ]
  },
  {
   "cell_type": "markdown",
   "id": "491a75b4",
   "metadata": {},
   "source": [
    "## Experiment settings\n",
    "\n",
    "Set here the two variables in the following way:\n",
    "\n",
    "- **CONFIG_YML:** path to the config.yml file used for trainning.\n",
    "- **WEIGHTS:** path to the model weights (.h5 file) to evaluate\n"
   ]
  },
  {
   "cell_type": "code",
   "execution_count": 32,
   "id": "7939dadf",
   "metadata": {},
   "outputs": [],
   "source": [
    "CONFIG_YML = \"config.yml\"\n",
    "WEIGHTS = \"weights/model.better.h5\""
   ]
  },
  {
   "cell_type": "code",
   "execution_count": 33,
   "id": "afc06ab4",
   "metadata": {
    "scrolled": true
   },
   "outputs": [
    {
     "data": {
      "text/plain": [
       "{'seed': 21,\n",
       " 'data': {'directory': 'data/subset',\n",
       "  'test_dataset': '../data/rd_test_dataset',\n",
       "  'labels': 'inferred',\n",
       "  'label_mode': 'categorical',\n",
       "  'validation_split': 0.2,\n",
       "  'image_size': [256, 256],\n",
       "  'batch_size': 20},\n",
       " 'model': {'weights': 'imagenet',\n",
       "  'input_shape': [256, 256, 3],\n",
       "  'classes': 2,\n",
       "  'data_aug_layer': None,\n",
       "  'regularizer': 'l2',\n",
       "  'trainable': True},\n",
       " 'compile': {'optimizer': {'adam': {'learning_rate': 0.005,\n",
       "    'epsilon': 0.05,\n",
       "    'amsgrad': True}},\n",
       "  'loss': 'binary_crossentropy',\n",
       "  'metrics': ['categorical_accuracy']},\n",
       " 'fit': {'epochs': 30,\n",
       "  'callbacks': {'model_checkpoint': {'filepath': 'model/weights/model.better.h5',\n",
       "    'save_best_only': True},\n",
       "   'early_stopping': {'monitor': 'val_loss',\n",
       "    'patience': 2,\n",
       "    'restore_best_weights': True},\n",
       "   'tensor_board': {'log_dir': 'model/weights/logs'}}}}"
      ]
     },
     "execution_count": 33,
     "metadata": {},
     "output_type": "execute_result"
    }
   ],
   "source": [
    "config = utils.load_config(CONFIG_YML)\n",
    "config"
   ]
  },
  {
   "cell_type": "code",
   "execution_count": 34,
   "id": "435199e0",
   "metadata": {},
   "outputs": [
    {
     "ename": "FileNotFoundError",
     "evalue": "[WinError 3] El sistema no puede encontrar la ruta especificada: 'data/subset'",
     "output_type": "error",
     "traceback": [
      "\u001b[1;31m---------------------------------------------------------------------------\u001b[0m",
      "\u001b[1;31mFileNotFoundError\u001b[0m                         Traceback (most recent call last)",
      "\u001b[1;32mc:\\Users\\Fede\\OneDrive\\Documentos\\Porfolio\\Challenges\\Reality_Defender\\RD-Data-Takehome-Federico--Ferreyra\\model\\Evaluation_Test_DS.ipynb Celda 6\u001b[0m in \u001b[0;36m<cell line: 1>\u001b[1;34m()\u001b[0m\n\u001b[1;32m----> <a href='vscode-notebook-cell:/c%3A/Users/Fede/OneDrive/Documentos/Porfolio/Challenges/Reality_Defender/RD-Data-Takehome-Federico--Ferreyra/model/Evaluation_Test_DS.ipynb#W5sZmlsZQ%3D%3D?line=0'>1</a>\u001b[0m CLASSES \u001b[39m=\u001b[39m utils\u001b[39m.\u001b[39;49mget_class_names(config)\n\u001b[0;32m      <a href='vscode-notebook-cell:/c%3A/Users/Fede/OneDrive/Documentos/Porfolio/Challenges/Reality_Defender/RD-Data-Takehome-Federico--Ferreyra/model/Evaluation_Test_DS.ipynb#W5sZmlsZQ%3D%3D?line=1'>2</a>\u001b[0m TEST_FOLDER \u001b[39m=\u001b[39m config[\u001b[39m'\u001b[39m\u001b[39mdata\u001b[39m\u001b[39m'\u001b[39m][\u001b[39m'\u001b[39m\u001b[39mtest_dataset\u001b[39m\u001b[39m'\u001b[39m]\n",
      "File \u001b[1;32mc:\\Users\\Fede\\OneDrive\\Documentos\\Porfolio\\Challenges\\Reality_Defender\\RD-Data-Takehome-Federico--Ferreyra\\model\\utils.py:80\u001b[0m, in \u001b[0;36mget_class_names\u001b[1;34m(config)\u001b[0m\n\u001b[0;32m     57\u001b[0m \u001b[39mdef\u001b[39;00m \u001b[39mget_class_names\u001b[39m(config):\n\u001b[0;32m     58\u001b[0m     \u001b[39m\"\"\"\u001b[39;00m\n\u001b[0;32m     59\u001b[0m \u001b[39m    It's not always easy to track how Keras maps our dataset classes to\u001b[39;00m\n\u001b[0;32m     60\u001b[0m \u001b[39m    the model outputs.\u001b[39;00m\n\u001b[1;32m   (...)\u001b[0m\n\u001b[0;32m     78\u001b[0m \u001b[39m                'Acura Integra Type R 2001', ...]\u001b[39;00m\n\u001b[0;32m     79\u001b[0m \u001b[39m    \"\"\"\u001b[39;00m\n\u001b[1;32m---> 80\u001b[0m     \u001b[39mreturn\u001b[39;00m \u001b[39msorted\u001b[39m(os\u001b[39m.\u001b[39;49mlistdir(os\u001b[39m.\u001b[39;49mpath\u001b[39m.\u001b[39;49mjoin(config[\u001b[39m\"\u001b[39;49m\u001b[39mdata\u001b[39;49m\u001b[39m\"\u001b[39;49m][\u001b[39m\"\u001b[39;49m\u001b[39mdirectory\u001b[39;49m\u001b[39m\"\u001b[39;49m])))\n",
      "\u001b[1;31mFileNotFoundError\u001b[0m: [WinError 3] El sistema no puede encontrar la ruta especificada: 'data/subset'"
     ]
    }
   ],
   "source": [
    "# CLASSES = utils.get_class_names(config)\n",
    "CLASSES = sorted(os.listdir(os.path.join(config[\"data\"][\"directory_bis\"])))\n",
    "TEST_FOLDER = config['data']['test_dataset']"
   ]
  },
  {
   "cell_type": "code",
   "execution_count": null,
   "id": "12f91894",
   "metadata": {
    "scrolled": true
   },
   "outputs": [],
   "source": [
    "cnn_model = model.create_model(weights=WEIGHTS)\n",
    "\n",
    "print(cnn_model.summary())"
   ]
  },
  {
   "cell_type": "markdown",
   "id": "b6a33cbb",
   "metadata": {},
   "source": [
    "## Get predictions from testing dataset"
   ]
  },
  {
   "cell_type": "code",
   "execution_count": null,
   "id": "cce894dd",
   "metadata": {},
   "outputs": [],
   "source": [
    "filename, predictions = utils.predict_from_folder(\n",
    "    folder=TEST_FOLDER, \n",
    "    model=cnn_model, \n",
    "    input_size=config[\"data\"][\"image_size\"], \n",
    "    class_names=CLASSES,\n",
    ")"
   ]
  },
  {
   "cell_type": "code",
   "execution_count": null,
   "id": "e8342c09",
   "metadata": {},
   "outputs": [],
   "source": [
    "test_df = pd.DataFrame((filename, predictions), columns=['filename', 'predictions']\n",
    "test_df.to_csv('test_df.csv')"
   ]
  }
 ],
 "metadata": {
  "kernelspec": {
   "display_name": "Python 3.9.12 ('base')",
   "language": "python",
   "name": "python3"
  },
  "language_info": {
   "codemirror_mode": {
    "name": "ipython",
    "version": 3
   },
   "file_extension": ".py",
   "mimetype": "text/x-python",
   "name": "python",
   "nbconvert_exporter": "python",
   "pygments_lexer": "ipython3",
   "version": "3.9.12"
  },
  "vscode": {
   "interpreter": {
    "hash": "439271dc3f168a0ce2055a4353efd4df0f31329f275977c8192fe016291bd4f5"
   }
  }
 },
 "nbformat": 4,
 "nbformat_minor": 5
}
