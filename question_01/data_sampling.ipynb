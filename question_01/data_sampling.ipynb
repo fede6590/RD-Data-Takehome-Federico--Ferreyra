{
 "cells": [
  {
   "cell_type": "markdown",
   "metadata": {},
   "source": [
    "# CREATING THE SUBSET"
   ]
  },
  {
   "cell_type": "code",
   "execution_count": 1,
   "metadata": {},
   "outputs": [],
   "source": [
    "import pandas as pd\n",
    "import matplotlib.pyplot as plt\n",
    "from PIL import Image\n",
    "import os\n",
    "import random"
   ]
  },
  {
   "cell_type": "code",
   "execution_count": null,
   "metadata": {},
   "outputs": [],
   "source": [
    "### Here put a command to download the subset"
   ]
  },
  {
   "cell_type": "code",
   "execution_count": 2,
   "metadata": {},
   "outputs": [],
   "source": [
    "train_df = pd.read_csv('../data/train.csv')\n",
    "test_df = pd.read_csv('../data/test.csv')\n",
    "valid_df = pd.read_csv('../data/valid.csv')"
   ]
  },
  {
   "cell_type": "code",
   "execution_count": 3,
   "metadata": {},
   "outputs": [
    {
     "name": "stdout",
     "output_type": "stream",
     "text": [
      "(100000, 6)\n",
      "(20000, 6)\n",
      "(20000, 6)\n"
     ]
    }
   ],
   "source": [
    "print(train_df.shape)\n",
    "print(test_df.shape)\n",
    "print(valid_df.shape)"
   ]
  },
  {
   "cell_type": "code",
   "execution_count": 4,
   "metadata": {},
   "outputs": [
    {
     "name": "stdout",
     "output_type": "stream",
     "text": [
      "50000\n",
      "10000\n",
      "10000\n"
     ]
    }
   ],
   "source": [
    "print(len(train_df[train_df['label_str'] == 'real']))\n",
    "print(len(test_df[test_df['label_str'] == 'real']))\n",
    "print(len(valid_df[valid_df['label_str'] == 'real']))"
   ]
  },
  {
   "cell_type": "code",
   "execution_count": 5,
   "metadata": {},
   "outputs": [],
   "source": [
    "os.makedirs('../data/subset/',exist_ok=True)\n",
    "subset_path = '../data/subset/'"
   ]
  },
  {
   "cell_type": "code",
   "execution_count": 12,
   "metadata": {},
   "outputs": [],
   "source": [
    "def create_subset(dataset_path, subset_path, samples=50):\n",
    "\n",
    "    total = os.listdir(dataset_path)\n",
    "    subset = random.sample(total, samples)\n",
    "\n",
    "    for file in subset:\n",
    "        to_copy = os.path.join(dataset_path, file)\n",
    "        where_to = os.path.join(subset_path, file)\n",
    "        os.link(to_copy, where_to) "
   ]
  },
  {
   "cell_type": "code",
   "execution_count": 15,
   "metadata": {},
   "outputs": [],
   "source": [
    "train_ds_0 = '../data/train/real/'\n",
    "train_ds_1 = '../data/train/fake/'\n",
    "test_ds_0 = '../data/test/real/'\n",
    "test_ds_1 = '../data/test/fake/'\n",
    "valid_ds_0 = '../data/valid/real/'\n",
    "valid_ds_1 = '../data/valid/fake/'\n",
    "\n",
    "dataset_0 = {train_ds_0: 50, test_ds_0: 10, valid_ds_0:10}\n",
    "dataset_1 = {train_ds_1: 50, test_ds_1: 10, valid_ds_1:10}\n",
    "\n",
    "for sub in dataset_0:\n",
    "    sub_path = os.path.join(subset_path, 'real/')\n",
    "    os.makedirs(sub_path,exist_ok=True)\n",
    "    create_subset(sub, sub_path, dataset_0[sub])\n",
    "\n",
    "for sub in dataset_1:\n",
    "    sub_path = os.path.join(subset_path, 'fake/')\n",
    "    os.makedirs(sub_path,exist_ok=True)\n",
    "    create_subset(sub, sub_path, dataset_1[sub])"
   ]
  }
 ],
 "metadata": {
  "kernelspec": {
   "display_name": "Python 3.9.12 ('base')",
   "language": "python",
   "name": "python3"
  },
  "language_info": {
   "codemirror_mode": {
    "name": "ipython",
    "version": 3
   },
   "file_extension": ".py",
   "mimetype": "text/x-python",
   "name": "python",
   "nbconvert_exporter": "python",
   "pygments_lexer": "ipython3",
   "version": "3.9.12"
  },
  "orig_nbformat": 4,
  "vscode": {
   "interpreter": {
    "hash": "439271dc3f168a0ce2055a4353efd4df0f31329f275977c8192fe016291bd4f5"
   }
  }
 },
 "nbformat": 4,
 "nbformat_minor": 2
}
